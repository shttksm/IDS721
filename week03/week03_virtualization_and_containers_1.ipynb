{
  "nbformat": 4,
  "nbformat_minor": 0,
  "metadata": {
    "colab": {
      "name": "week03_virtualization_and_containers_1.ipynb",
      "provenance": [],
      "toc_visible": true,
      "authorship_tag": "ABX9TyOzeTlqJ4lbpD5otzmoXg0Q",
      "include_colab_link": true
    },
    "kernelspec": {
      "name": "python3",
      "display_name": "Python 3"
    }
  },
  "cells": [
    {
      "cell_type": "markdown",
      "metadata": {
        "id": "view-in-github",
        "colab_type": "text"
      },
      "source": [
        "<a href=\"https://colab.research.google.com/github/shttksm/IDS721/blob/main/week03/week03_virtualization_and_containers_1.ipynb\" target=\"_parent\"><img src=\"https://colab.research.google.com/assets/colab-badge.svg\" alt=\"Open In Colab\"/></a>"
      ]
    },
    {
      "cell_type": "markdown",
      "metadata": {
        "id": "P0Fhrh4Uxlxh"
      },
      "source": [
        "# Week3  - VIrtualization and Containers\n",
        "\n",
        "4週目と合わせて，タイトルの話題をやるみたい．\n",
        "\n",
        "## Elastic Resource\n",
        "\n",
        "* AWS Elastic File System のような拡張可能で，様々なインスタンスからマウント可能\n",
        "* VMやスポットインスタンス\n",
        "  * スポットインスタンスはAWS等のサービスの開いてる領域を一時的につかえて割安．\n",
        "  * AWSスポットインスタンスを作ってCloud9のコンソールからスポットインスタンスに入るよ．[参考動画](https://www.youtube.com/watch?v=H24h3DoOZtE)\n",
        "    * ポイントはセキュリティグループ作って22番を開けておくのと，キーペア作ってpemファイルをダウンロードして鍵を用意しとく\n",
        "  * GCPでnginxの仮想サーバたてるよー\n",
        "    * `gcloud compute instances create gcelab2 --machine-type n1-standard-2 -- zone us-central1-c`\n",
        "    * Compute Engine のVMinstance から作ったインスタンス選んでsshでブラウザ経由で入る\n",
        "    * aptでとりあえず更新してからnginxを入れるよー\n",
        "    * VCP netwokのタブからファイヤーウォールルール作るよ．対象全インスタンス，80番へのイントラフィック全通し\n",
        "    * Compute Engine のVMinstanceのExternal IPにIP乗ってるからつないで見る．\n",
        "  \n"
      ]
    },
    {
      "cell_type": "markdown",
      "metadata": {
        "id": "J3kvxE0Nzq6I"
      },
      "source": [
        "## Build Continuous Delivery with EFS (NFS OPS)\n",
        "* まとめると概ね，Jenkins のビルドサーバをAWS VM上に立てて，ビルドしたものをビルドサーバにマウントしたEFS上にrsyncする．そんでそいつらを他のVMが参照すればCDみたいにできるよー\n",
        "  * [Jenkins](https://cloudbees.techmatrix.jp/jenkins/)"
      ]
    },
    {
      "cell_type": "markdown",
      "metadata": {
        "id": "z25nEdJAzq96"
      },
      "source": [
        "## Containers: Docker\n",
        "\n",
        "### Docker Desktop\n",
        "* コンテナ実行用のランタイム\n",
        "* Kuburnetesの利用可: コンテナアプリのスケール管理やリソース管理\n",
        "\n",
        "## Docker Hub\n",
        "* 想像はつくけどDocker界のGithub\n",
        "* コンテナイメージの共有と公開イメージの利用\n",
        "\n",
        "## Docker Containers vs. VM?\n",
        "[参考](https://www.youtube.com/watch?v=OU_-7ekVojk)\n",
        "* 軽量，起動早，IaCにて構成\n",
        "* HostOSの上にGuest OSが載ってんのがVM, Guest OSのサブセットであるRuntimeが載ってんのがContainer\n",
        "\n",
        "# 演習\n",
        "* [参考](https://www.youtube.com/watch?v=wDoNJ7faNdQ)\n",
        "* AWS Cloud9上でDockerイメージの作成とDocker Hubでの公開"
      ]
    }
  ]
}