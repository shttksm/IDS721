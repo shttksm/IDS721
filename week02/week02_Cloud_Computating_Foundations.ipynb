{
  "nbformat": 4,
  "nbformat_minor": 0,
  "metadata": {
    "colab": {
      "name": "week02_Cloud_Computating_Foundations.ipynb",
      "provenance": [],
      "authorship_tag": "ABX9TyPKEKP6VoTzXvofvq812kK1",
      "include_colab_link": true
    },
    "kernelspec": {
      "name": "python3",
      "display_name": "Python 3"
    }
  },
  "cells": [
    {
      "cell_type": "markdown",
      "metadata": {
        "id": "view-in-github",
        "colab_type": "text"
      },
      "source": [
        "<a href=\"https://colab.research.google.com/github/shttksm/IDS721/blob/main/week02/week02_Cloud_Computating_Foundations.ipynb\" target=\"_parent\"><img src=\"https://colab.research.google.com/assets/colab-badge.svg\" alt=\"Open In Colab\"/></a>"
      ]
    },
    {
      "cell_type": "markdown",
      "metadata": {
        "id": "iB840ZL5gJZk"
      },
      "source": [
        "# Week02 - Cloud Computating Foundations\n",
        "\n",
        "## 基本の開発環境\n",
        "* AWS:AWS Cloud9, AWS Cloudshell, GCP: Cloud Shell, Azure: Azure Cloud Shell から入門\n",
        "\n",
        "## クラウドのサービスモデル\n",
        "* SaaS: Office 365とかGoogle Docsとか\n",
        "* PaaS: ソフト開発のための**P**latform, Herokuとか，洗車みたいなもんだって，洗車機操作せずにドライブスルーだけ\n",
        "* IssS: AWS EC2やS3などのコンピューティング資産とストレージ，コストコだって材料を提供するからあとはユーザで好きにやってくれとのこと\n",
        "* MaaS: 実サーバをレンタルしちゃう．**M**はMetalの略\n",
        "* サーバレス: AWS Lambdaとかあるイベントに対して動く関数のみ作成する．サーバのことは考えない．使用時間に応じてのみ課金．"
      ]
    },
    {
      "cell_type": "markdown",
      "metadata": {
        "id": "BXOnBqTIj-vK"
      },
      "source": [
        "## PaaS CD\n",
        "\n",
        "PaaSとしてGoogle App Engine，アプリとしてFlask利用のウェブアプリを作ってみる．\n",
        "  * 知らなかったけど[Flask](https://en.wikipedia.org/wiki/Flask_(web_framework))はPythonベースのWebアプリ用フレームワーク\n",
        "\n"
      ]
    },
    {
      "cell_type": "markdown",
      "metadata": {
        "id": "RayWKIixl_Di"
      },
      "source": [
        ""
      ]
    },
    {
      "cell_type": "markdown",
      "metadata": {
        "id": "0pqzoh3Ml_GS"
      },
      "source": [
        ""
      ]
    },
    {
      "cell_type": "markdown",
      "metadata": {
        "id": "73wpNLMHl_Kf"
      },
      "source": [
        ""
      ]
    },
    {
      "cell_type": "markdown",
      "metadata": {
        "id": "vvVufn6Jl_M8"
      },
      "source": [
        ""
      ]
    },
    {
      "cell_type": "markdown",
      "metadata": {
        "id": "e02nnP36l_Pc"
      },
      "source": [
        ""
      ]
    },
    {
      "cell_type": "markdown",
      "metadata": {
        "id": "lWMSR4Yjl_SZ"
      },
      "source": [
        ""
      ]
    },
    {
      "cell_type": "markdown",
      "metadata": {
        "id": "u6el8IPwl_Xd"
      },
      "source": [
        ""
      ]
    }
  ]
}