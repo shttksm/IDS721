{
  "nbformat": 4,
  "nbformat_minor": 0,
  "metadata": {
    "colab": {
      "name": "week02_Cloud_Computating_Foundations.ipynb",
      "provenance": [],
      "authorship_tag": "ABX9TyP+EiD4ZuQJLJCY/we4OnBd",
      "include_colab_link": true
    },
    "kernelspec": {
      "name": "python3",
      "display_name": "Python 3"
    }
  },
  "cells": [
    {
      "cell_type": "markdown",
      "metadata": {
        "id": "view-in-github",
        "colab_type": "text"
      },
      "source": [
        "<a href=\"https://colab.research.google.com/github/shttksm/IDS721/blob/main/week02/week02_Cloud_Computating_Foundations.ipynb\" target=\"_parent\"><img src=\"https://colab.research.google.com/assets/colab-badge.svg\" alt=\"Open In Colab\"/></a>"
      ]
    },
    {
      "cell_type": "markdown",
      "metadata": {
        "id": "iB840ZL5gJZk"
      },
      "source": [
        "# Week02 - Cloud Computating Foundations\n",
        "\n",
        "## 基本の開発環境\n",
        "* AWS:AWS Cloud9, AWS Cloudshell, GCP: Cloud Shell, Azure: Azure Cloud Shell から入門\n",
        "\n",
        "## クラウドのサービスモデル\n",
        "* SaaS: Office 365とかGoogle Docsとか\n",
        "* PaaS: ソフト開発のための**P**latform, Herokuとか，洗車みたいなもんだって，洗車機操作せずにドライブスルーだけ\n",
        "* IssS: AWS EC2やS3などのコンピューティング資産とストレージ，コストコだって材料を提供するからあとはユーザで好きにやってくれとのこと\n",
        "* MaaS: 実サーバをレンタルしちゃう．**M**はMetalの略\n",
        "* サーバレス: AWS Lambdaとかあるイベントに対して動く関数のみ作成する．サーバのことは考えない．使用時間に応じてのみ課金．"
      ]
    },
    {
      "cell_type": "markdown",
      "metadata": {
        "id": "BXOnBqTIj-vK"
      },
      "source": [
        "## PaaS CD\n",
        "\n",
        "PaaSとしてGoogle App Engine，アプリとしてFlask利用のウェブアプリを作ってみる．\n",
        "  * 知らなかったけど[Flask](https://en.wikipedia.org/wiki/Flask_(web_framework))はPythonベースのWebアプリ用フレームワーク\n",
        "\n",
        "コードは[ここ](https://github.com/shttksm/IDS721/tree/main/week02)においておくとして，必要なところだけメモ\n",
        "* [参考](https://www.youtube.com/watch?v=_TfWdOvQXwU&feature=youtu.be)\n",
        "\n",
        "1. GCPでプロジェクト作る．\n",
        "2. `ssh-keygen`してリポジトリから空っぽのプロジェクトフォルダ引っ張ってくる．\n",
        "3. 必要ファイル作る.\n",
        "```\n",
        "68  touch Makefile\n",
        "   69  touch requirements.txt\n",
        "   70  touch app.yaml\n",
        "   71  touch main.py\n",
        "   72  touch main_test.py\n",
        "```\n",
        "\n",
        "4. 必要ファイルの中身を書く．\n",
        "* [ここ](https://github.com/GoogleCloudPlatform/python-docs-samples/tree/master/appengine/standard_python3/hello_world)から中身をコピペ\n",
        "* Makeファイルはweek01を参考に自分で書く\n",
        "\n",
        "5. 仮想環境作る．\n",
        "```console\n",
        "(.delivery) shttksm@cloudshell:~/IDS721/week02/GCP (delivery-303102)$ virtualenv --python $(which python3) ~/.delivery\n",
        "created virtual environment CPython3.7.3.final.0-64 in 1036ms\n",
        "  creator CPython3Posix(dest=/home/shttksm/.delivery, clear=False, no_vcs_ignore=False, global=False)\n",
        "  seeder FromAppData(download=False, pip=bundle, setuptools=bundle, wheel=bundle, via=copy, app_data_dir=/home/shttksm/.local/share/virtualenv)\n",
        "    added seed packages: pip==20.3.3, setuptools==51.3.3, wheel==0.36.2\n",
        "  activators BashActivator,CShellActivator,FishActivator,PowerShellActivator,PythonActivator,XonshActivator\n",
        "(.delivery) shttksm@cloudshell:~/IDS721/week02/GCP (delivery-303102)$ deactivate\n",
        "shttksm@cloudshell:~/IDS721/week02/GCP (delivery-303102)$ source ~/.delivery/bin/activate\n",
        "```\n",
        "6. プロジェクトが正常に動いているか確認\n",
        "```bash\n",
        "gcloud projects describe $GOOGLE_CLOUD_PROJECT\n",
        "```\n",
        "\n",
        "7. リモートにインスタンス作るよーでデプロイ\n",
        "* AWSで言うところのEC2インスタンス作るイメージ\n",
        "```console\n",
        "gcloud app create\n",
        "```\n",
        "```console\n",
        "gcloud app deploy\n",
        "```\n",
        "\n",
        "8. CD トリガー作るよー\n",
        "* cloudbuild.yamlを作って\n",
        "* gitリポに必要なものをプッシュ\n",
        "* Cloud Builderから\n",
        "\n",
        "あれ，これってweek01と一緒なんだけど．Flaskとか言ってるけどコピペしてるだけじゃん．\n",
        "Flaskについては，下記のような感じでページ開いたときに動く関数を紐つける感じみたい．\n",
        "```python\n",
        "@app.route('/pandas')\n",
        "def pandas_sugar():\n",
        "    df = pd.read_csv(\"https://raw.githubusercontent.com/noahgift/sugar/master/data/education_sugar_cdc_2003.csv\")\n",
        "    return jsonify(df.to_dict())\n",
        "```\n",
        "\n",
        "\n",
        "\n",
        "\n",
        "\n",
        "\n"
      ]
    },
    {
      "cell_type": "markdown",
      "metadata": {
        "id": "RayWKIixl_Di"
      },
      "source": [
        "## Building three types of websites\n",
        "\n",
        "* AWS S3バケットを利用して，静的なホームページを公開できるよー\n",
        "  * S3にシンプルにhtmlサーバとして働けるような機能が付いてるみたい．\n",
        "  * ファイルだけで作る．\n",
        "* AWS Lamda利用，AWS Cloud9から新規にhtmlを吐けるLambda関数を作る．\n",
        "  * Lambda関数をテストして，トリガーはAPI GatewayでAPI endpointがURLとなる\n",
        "  * 関数だけで作る．\n",
        "* EC2仮想マシーン立てて，webサーバデーモンからインストールして作る．\n",
        "  * 一式作る．\n",
        "* PaaSとしてAWS Beanstalkが用意されているのでその上でアプリだけ作る．\n",
        "  * Flaskとか利用してアプリで作る．\n"
      ]
    },
    {
      "cell_type": "markdown",
      "metadata": {
        "id": "0pqzoh3Ml_GS"
      },
      "source": [
        "## IaC (Infrastructure as Code)\n",
        "\n",
        "* Chefは聞いたことあるけど\n",
        "* とりあえずLabでTerraform使ってみる．\n",
        "  * [IaD(as Data)](https://cloud.google.com/blog/ja/products/containers-kubernetes/understanding-configuration-as-data-in-kubernetes)みたいな概念もあり何がデファクトスタンダードになっていくか見とかないといけない気がする．"
      ]
    }
  ]
}