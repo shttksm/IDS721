{
  "nbformat": 4,
  "nbformat_minor": 0,
  "metadata": {
    "colab": {
      "name": "week04_virtualization_and_containers_2.ipynb",
      "provenance": [],
      "toc_visible": true,
      "authorship_tag": "ABX9TyOHmqZB8M/DpjgdpCh4nH5r",
      "include_colab_link": true
    },
    "kernelspec": {
      "name": "python3",
      "display_name": "Python 3"
    }
  },
  "cells": [
    {
      "cell_type": "markdown",
      "metadata": {
        "id": "view-in-github",
        "colab_type": "text"
      },
      "source": [
        "<a href=\"https://colab.research.google.com/github/shttksm/IDS721/blob/main/week04/week04_virtualization_and_containers_2.ipynb\" target=\"_parent\"><img src=\"https://colab.research.google.com/assets/colab-badge.svg\" alt=\"Open In Colab\"/></a>"
      ]
    },
    {
      "cell_type": "markdown",
      "metadata": {
        "id": "P0Fhrh4Uxlxh"
      },
      "source": [
        "# Week4  - VIrtualization and Containers\n",
        "\n",
        "3週目と合わせて，タイトルの話題をやるみたい．\n",
        "\n",
        "## Kubernetes\n",
        "* What are containers?\n",
        "    * a standard unit of software that packages up code and all its dependencies its image is a lightweight, standalone, executable software package that includes everything needed to run an application.\n",
        "\t\n",
        "* What problem do containers solve?\n",
        "    * allow us to package the code and its runtime\n",
        "\t* compared to VM, containers only include runtime. So, its size and booting speed are better. run reliably from one computing environment to another.\n",
        "\t\n",
        "\t\n",
        "* What is the relationship between Kubernetes and containers?\n",
        "\t* It is difficult to make the service redundant, allocate CPU, network, and storage usage, update applications without stopping using container technology. Kubernetes is an OSS tool that manages containers. It supports updating applications without stopping by managing network configuration, changing resource allocation for each application, and distributing applications' workload into multi servers.\n",
        "\n",
        "* KubernetesのマスタノードでAPIが動く．下記みたいなコマンドがマスタ上で動いて新たなコンテナを登録してデプロイ．\n",
        "\n",
        "```yaml\n",
        "#!/usr/bin/env bash\n",
        "\n",
        "dockerpath=\"noahgift/flasksklearn\"\n",
        "\n",
        "# Run in Docker Hub container with kubernetes\n",
        "kubectl run flaskskearlndemo\\\n",
        "    --generator=run-pod/v1\\\n",
        "    --image=$dockerpath\\\n",
        "    --port=80 --labels app=flaskskearlndemo\n",
        "\n",
        "# List kubernetes pods\n",
        "kubectl get pods\n",
        "\n",
        "# Forward the container port to host\n",
        "kubectl port-forward flaskskearlndemo 8000:80\n",
        "```\n",
        "\n",
        "\n",
        "## Kaizen と 5 whys\n",
        "* とりあえずなぞなぞ分析の回数を5回にとどめてるのが現実的．\n",
        "\n",
        "## Prometheus (モニタリング)\n",
        "[参考](https://www.youtube.com/watch?v=4bcBS1G3GWI)\n",
        "* クロノ・トリガー\n",
        "* EC2インスタンス上にPrometheusを入れといてモニタリングのプロセスを走らせる．\n",
        "* で，外部からモニタするためにEC2インスタンスのセキュリティグループの9090ポートに穴をあける．\n",
        "* インスタンスの公開IPの9090にアクセス\n",
        "\n",
        "## Locust (負荷テスト)\n",
        "[参考](https://www.youtube.com/watch?v=IokEPPhvQA0)\n",
        "* 本来は負荷テストとして，対象サービスを外部から叩きまくるサーバに叩きまくりプログラム(負荷テストプログラム)を置くようだけど，参考の例だと対象サービスを置くサーバと負荷テストを置くサーバが同じみたい．\n",
        "* `locustfile.py`のようなどう叩くかを記述するファイルを用意\n",
        "* `locust`で起動，8089番から負荷テストを実行\n",
        "* ユーザ数と新規ユーザの増加率とテスト対象サーバを指定して`locustfile.py`に記述した内容を多重実行\n",
        "* これもまた対象サービスの応答時間をグラフで見れるよ．\n",
        "\n",
        "\n"
      ]
    }
  ]
}