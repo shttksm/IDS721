{
  "nbformat": 4,
  "nbformat_minor": 0,
  "metadata": {
    "colab": {
      "name": "week01_getting_started.ipynb",
      "provenance": [],
      "authorship_tag": "ABX9TyM61sfiLIvmYSMqV0hIzRfM",
      "include_colab_link": true
    },
    "kernelspec": {
      "name": "python3",
      "display_name": "Python 3"
    }
  },
  "cells": [
    {
      "cell_type": "markdown",
      "metadata": {
        "id": "view-in-github",
        "colab_type": "text"
      },
      "source": [
        "<a href=\"https://colab.research.google.com/github/shttksm/IDS721/blob/main/week01_getting_started.ipynb\" target=\"_parent\"><img src=\"https://colab.research.google.com/assets/colab-badge.svg\" alt=\"Open In Colab\"/></a>"
      ]
    },
    {
      "cell_type": "markdown",
      "metadata": {
        "id": "hWgkjBTssiNv"
      },
      "source": [
        "# Week1 - Getting started\n",
        "\n",
        "* Effective Asinc Technical Discussion\n",
        "  * 要は，GitとかJupyterとか使って他者と共有可能な感じにしていきましょうってことで，そのTipsの説明"
      ]
    },
    {
      "cell_type": "code",
      "metadata": {
        "id": "1JIcITsXsoUj"
      },
      "source": [
        ""
      ],
      "execution_count": null,
      "outputs": []
    }
  ]
}