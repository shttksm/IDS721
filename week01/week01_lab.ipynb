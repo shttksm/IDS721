{
  "nbformat": 4,
  "nbformat_minor": 0,
  "metadata": {
    "colab": {
      "name": "week01_lab.ipynb",
      "provenance": [],
      "toc_visible": true,
      "authorship_tag": "ABX9TyOiT//whNsU769tsUYyHkWl",
      "include_colab_link": true
    },
    "kernelspec": {
      "name": "python3",
      "display_name": "Python 3"
    }
  },
  "cells": [
    {
      "cell_type": "markdown",
      "metadata": {
        "id": "view-in-github",
        "colab_type": "text"
      },
      "source": [
        "<a href=\"https://colab.research.google.com/github/shttksm/IDS721/blob/main/week01/week01_lab.ipynb\" target=\"_parent\"><img src=\"https://colab.research.google.com/assets/colab-badge.svg\" alt=\"Open In Colab\"/></a>"
      ]
    },
    {
      "cell_type": "markdown",
      "metadata": {
        "id": "KSFLPaFVmZkE"
      },
      "source": [
        "# Week1 - Lab\n",
        "\n",
        "* Lab課題における気付きと困ったところメモ\n",
        "\n",
        "## GCP Essentials Qwiklabs\n",
        "* GCP\b上でターミナル使うだけ．\n",
        "* 特になし．\b講義のほうが\b内容深いため特にない．\n",
        "\n",
        "## AWS Academy CloudFoundations: \n",
        "### [Introduction to EC2]()\n",
        "#### Compute Service Overview\n",
        "* Amazon Elastic Compute Cloud = EC2, インフラごと提供するのでIaaS\n",
        "* ECS, EKS, Fargate, ECRはコンテナベース\n",
        "* Lambda はコードベース，(スケジュールされた)イベントに対応して起動されて実行時間毎に料金\n",
        "\n",
        "#### EC2\n",
        "* 仮想マシーンを提供，各インスタンスはそのまんまだけどEC2インスタンスと呼ばれてクラウド上に配置\n",
        "\n",
        "**インスタンス作成**\n",
        "* インスタンスのもととなるテンプレとして**AMI**:Amazon Machine Imageみたいなのがあって，自分で定義してもいいし，Amazonが用意したものを改変してもいい(Linux and Windows OK.)\n",
        "  * CPU, メモリ，ストレージ，ネットワーク設定からタイプが決まる．t3.largeとか．\n",
        "* 次にAWS Cloud の各リージョン内に仮想的なネットワークを敷く．以下VCPのところ参照．\n",
        "* **IAM**: Identify and Access Management, 各インスタンスにRDSやS3 Bucketなどへのアクセス可否を管理  \n",
        "* **User Data script**: AMIからインスタンス化するときにユーザ指定のスクリプトを流せるよー\n",
        "* **Storage Options**: EC2 Instance store (EC2インスタンスが動いているマシーンのディスク)とAmazon EBS(Elastic Block Store, 不揮発性で高性能・多機能)\n",
        "* **Tags**: 各インスタンスにサーバ名とか用途などのメタデータ付与\n",
        "* **Security Group**: インスタンス毎に適用できるファイヤーウォールルール\n",
        "* **Key pair**: 公開鍵と秘密鍵ね．\n",
        "* AWS CLIからもコマンドでインスタンス化できるよ．`aws ec2 run-instances --image-id xxx`，ただオプション指定のものは予め定義して置く必要あり\b．この例だとAMI．\n",
        "\n",
        "### Working with EBS\n",
        "* Elastic Block Storeの略,データをブロックに分けて更新されたブロックのみストレージ更新を行うので低レイテンシー\n",
        "* スナップショットってことで，異なるリージョンのEBSに書けるよー，でElasticityってことで拡張も簡単よー\n",
        "* SnapshotでEBS自体のバックアップが可能．ワンクリック．でスナップショットから復元可能．\n",
        "\n",
        "### [Build your VPC and Launch a Web Server](https://awsacademy.instructure.com/courses/2340/modules/items/269990)\n",
        "\n",
        "#### VPC\n",
        "[動画](https://awsacademy.instructure.com/courses/2340/modules/items/269982)見たほうが早い．\n",
        "* VPC自体は，AWSの各リージョン(データセンタ)内に仮想的にネットワークを作れる仕組み\n",
        "  * イメージとしてはVCPインスタンスとして\bAWS内のネットワーク構成を規定する感じか．\n",
        "* 各リージョンの利用可能領域の中から複数個サブネットを作って**VCP**インスタンスに登録できるよー\n",
        "  * サブネットは，ネットに接続可能なPublicと\bバックエンドなど隠しておきたいPrivateに分けられるよー\n",
        "* CIDRとSubnet maskはまぁOK.\n",
        "  * マスク長は16bit ~ 28bitまで使えるよう．16bitだと使えるアドレスは65536個"
      ]
    },
    {
      "cell_type": "markdown",
      "metadata": {
        "id": "a64fgxmupxD8"
      },
      "source": [
        "#### VPC networking\b\n",
        "\n",
        "これもまた[動画](https://awsacademy.instructure.com/courses/2340/modules/items/269984)見たほうが早いけど\bまとめとしては，\n",
        "\n",
        "* PublicとPrivateなsubnetについては上述\n",
        "\n",
        "* Public subnetに\bNATをおいて, privateから\bインターネットへのコネクションはprivate subnet route tableでNATに向かわせる.\n",
        "\n",
        "* publicからインターネットへの通信はpublic subnet route tableに基づいてインターネットゲートウェイに向ける．\n",
        "\n",
        "* VPC間のコネクションについては，リージョン・AWSアカウントが違ってもVCP Peeringの仕組みでOK.\n",
        "\n",
        "* 会社のデータセンターからAWSへのコネクトはインターネット経由VNCで．\n",
        "  * ネット経由で速度心配な場合にAWS Direct connect\n",
        "\n",
        "#### VPC cecurity\n",
        "* Security groupとnetwork access \bcontrol listの2種類\n",
        "* Security groupはsubnet内に含まえれるインスタンス(イメージはサーバ)ごと\n",
        "* Network access control listはサブネットごと\n",
        "\n",
        "### Amazon Route 53\n",
        "* いい感じのDNS, ロードバランサ"
      ]
    }
  ]
}