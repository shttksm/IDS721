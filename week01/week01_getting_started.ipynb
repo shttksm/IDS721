{
  "nbformat": 4,
  "nbformat_minor": 0,
  "metadata": {
    "colab": {
      "name": "week01_getting_started.ipynb",
      "provenance": [],
      "toc_visible": true,
      "authorship_tag": "ABX9TyNgi/634Q7u9RQAMLU6TF1W",
      "include_colab_link": true
    },
    "kernelspec": {
      "name": "python3",
      "display_name": "Python 3"
    }
  },
  "cells": [
    {
      "cell_type": "markdown",
      "metadata": {
        "id": "view-in-github",
        "colab_type": "text"
      },
      "source": [
        "<a href=\"https://colab.research.google.com/github/shttksm/IDS721/blob/main/week01/week01_getting_started.ipynb\" target=\"_parent\"><img src=\"https://colab.research.google.com/assets/colab-badge.svg\" alt=\"Open In Colab\"/></a>"
      ]
    },
    {
      "cell_type": "markdown",
      "metadata": {
        "id": "hWgkjBTssiNv"
      },
      "source": [
        "# Week1 - Getting started"
      ]
    },
    {
      "cell_type": "markdown",
      "metadata": {
        "id": "e7azw67w8U98"
      },
      "source": [
        "## Effective Async Technical Discussion\n",
        "  * 要は，GitとかJupyterとか使って他者と共有可能な感じにしていきましょうってことで，そのTipsの説明"
      ]
    },
    {
      "cell_type": "markdown",
      "metadata": {
        "id": "1JIcITsXsoUj"
      },
      "source": [
        "### `git`によるホスト\n",
        "* bitbucket, gitとGitLabが主なホスティングサービス\n",
        "* GitHub + GitHub Pages + Hugo or Pelican でマークダウンファイル形式でウェブページ公開できるので便利\n",
        "* Gist ちょっとしたソースの共有に便利\n",
        "  * Youtubeの限定非公開みたいな感じで公開できてリポジトリとか作んなくてササッと共有したいとき用．\n",
        "![image](https://user-images.githubusercontent.com/56372825/105379749-26b08480-5bdb-11eb-9b8d-7bc5a7d34cb2.png)"
      ]
    },
    {
      "cell_type": "markdown",
      "metadata": {
        "id": "F1_qPWADu7Fv"
      },
      "source": [
        "### Jupyter Notebookによるホスト\n",
        "\n",
        "* Jupyter Notebookはコードとマークダウン使えてかけるので便利よ->これ描いている時点で知ってる．\n",
        "* docker もしくは colabでノートを公開すると便利\n",
        "  * Jupyterで共有するといいけど，環境もまとめて共有できればすぐ問題無しで実行できるねー\n"
      ]
    },
    {
      "cell_type": "markdown",
      "metadata": {
        "id": "lAAWRaS6y25j"
      },
      "source": [
        "### 画像や動画の共有\n",
        "\n",
        "* 画像や動画で伝えると当然情報量多いからわかりやすい．\n",
        "* ローカルで画像などをコピーして，GitHubのIssues に貼り付けると，それらがアップロードされてそのリンクが文字列で得られるよー．\n",
        "  * 下記のように得られた文字列をマークダウンとかにコピペするだけ\n",
        "![image](https://user-images.githubusercontent.com/56372825/105381927-8a3bb180-5bdd-11eb-93f8-684460cf0d0f.png)\n",
        "\n",
        "* 動画の場合は1, 2分くらいが集中しやすくて，MacならQuick player使って録画．編集めんどいならテンプレートありの[Camtasia](https://www.techsmith.com/video-editor.html)ってのが簡単よ\n",
        "  * 最初の授業でいかにコミュとるか教えるのがアメリカの授業っぽいというかいいよね．"
      ]
    },
    {
      "cell_type": "markdown",
      "metadata": {
        "id": "6maVmEfk5w_I"
      },
      "source": [
        "### まとめ: Effective Async Technical Discussion\n",
        "* 複数人で協力してプロジェクトを行い，AsyncなDiscussionなので能動的に情報を掴みに行くアクティブラーニングとなり効率的に学べるよー\n",
        "* コード以外の今まではコメントだったけど，多様な形態で付加情報つけれるよー\n"
      ]
    },
    {
      "cell_type": "markdown",
      "metadata": {
        "id": "9252tPuO7isv"
      },
      "source": [
        "## Effective Async Technical Project Management\n",
        "\n",
        "### ソフトウェアプロジェクトの失敗要因\n",
        "* 自動化の欠如，HIPPOs (Highest Paid Person’s Opinion) や Herosがメンバーを実はだめにする，チームワーク欠如(情報交換不足)がマネージメント要因以外の失敗要因としてよく見るところ．\n",
        "\n",
        "### 高品質かつオンタイムなソフトウェア制作\n",
        "* **DevOps**: 開発と運用を分けずにチームメンバーが両方を意識する．\n",
        "* **CD/CI**: DevOpsで開発運用間の組織的なオーバヘッドが減り小さな改善をガンガン運用していくとする．そんときに，スムーズに開発運用するテクニックの総称(Coutinuous Integration/ Countinuous delivery)．\n",
        "\n",
        "1. [ソフト開発の自動化](https://circleci.com/blog/increase-reliability-in-data-science-and-machine-learning-projects-with-circleci/)\n",
        "  * makefile 作って，setup(仮想環境), install(パッケージ導入), lint(静的解析), test(pytestとかの単体テスト)を自動化させる．\n",
        "\n",
        "2. マネージメント用のスプレットシート用意\n",
        "  * 4半期とか1年毎で週毎の成果物の指定: まぁこれは普通にやることでしょう．\n",
        "\n",
        "3. カンバンシステムの導入\n",
        "  * 英語でkanbanとか言ってたけど，要はTrelloでタスク毎に分割して人に振って組織内進捗を管理せよってこと\n",
        "\n",
        "4. 定期的にデモ\n",
        "  * 各タスクを金曜日〆にして例えば毎週月曜は，デモをしてリリース前の確認とする．\n",
        "\n",
        "5. Deadlineの数週前成果物を制作済みとする．\n",
        "6. シンプルかつ簡潔な構成とする．\n",
        "  * 選択肢があるなら理解用意な方を取る．\n",
        "7. エゴよりもプロセスを大切にするチーム作り\n",
        "  * リーダや個人の偏った強い思いよりも，チームメンバーが同じ目標に同じ熱量で向かえているか\n",
        "  * という意味でタレントだけでチームメンバーを決めない．\n",
        "8. YAGNI\n",
        "  * You ain't gonna need it.\n",
        "  * 必要なときに必要な機能のみ作る．とはいえ，再利用性も重要なのでそのバランスだろう．\n",
        "\n",
        "\n"
      ]
    },
    {
      "cell_type": "markdown",
      "metadata": {
        "id": "ziiH8FWz4tBZ"
      },
      "source": [
        "## Cloud Onboarding for AWS, GCP, and Azure\n",
        "\n",
        "実際のコード類は本ノートブックと別に同じリポジトリに格納することとして，作業中に困ったことのメモをとっていく．\n",
        "\n",
        "### AWS (Amazon Web Services)\n",
        "\n",
        "* いくつかサービスはある模様だけど，AWS Free Tier, AWS Academy, AWS Education, AWS training，今回はAWS Free Tier上で実施してみる．\n",
        "  * AWS Free Tier が有料版と同じ環境でしばらく無料お試しみたいな感じ\n",
        "  * 他のやつは，学習用のコースを提供しているようだ．"
      ]
    },
    {
      "cell_type": "markdown",
      "metadata": {
        "id": "8yHXqCv9BHSQ"
      },
      "source": [
        "### なんか作ってみる．\n",
        "* [参考](https://www.youtube.com/watch?v=-mdv2wf8yQ8)\n",
        "* [製作物](https://github.com/shttksm/IDS721/tree/main/week01/AWS)\n",
        "1. AWS free tier: 日本語だとAWS12ヶ月無料枠でアカウント作って，ダッシュボードからCloud9立ち上げる．\n",
        "2. GitHubからssh経由でリポジトリをクローン\n",
        "  * AWS側で `ssh-keygen -t rsa`で公開鍵作ってコピー\n",
        "  * GitHubのユーザ設定から公開鍵を登録\n",
        "  * AWS側で `git clone`\n",
        "\n",
        "3. 仮想環境作って，activate\n",
        "\n",
        "```console\n",
        "ec2-user:~/environment/IDS721/week01/AWS (main) $ python3 -m venv ~/.IDS721\n",
        "ec2-user:~/environment/IDS721/week01/AWS (main) $ source ~/.IDS721/bin/activate\n",
        "(.IDS721) ec2-user:~/environment/IDS721/week01/AWS (main) $ \n",
        "```\n",
        "\n",
        "4. Makefile 作るよー\n",
        "\n",
        "  ```shell\n",
        "  install:\n",
        "    pip install --upgrade pip &&\\\n",
        "      pip install -r requirements.txt\n",
        "      \n",
        "  format:\n",
        "    black *.py\n",
        "\n",
        "  lint:\n",
        "    pylint --disable=R,C hello.py\n",
        "\n",
        "  test:\n",
        "    python -m pytest -vv --cov=hello test_hello.py\n",
        "\n",
        "  all: install lint test\n",
        "  ```\n",
        "\n",
        "5. requirements.txt作るよー，そして`make install`\n",
        "  * とりあえずMakefileに書かれてるパッケージはどのプロジェクトでも必須かつおすすめとのこと\n",
        "\n",
        "  ```text\n",
        "  pylint\n",
        "  pytest\n",
        "  click\n",
        "  black\n",
        "  pytest-cov\n",
        "  ```\n",
        "\n",
        "6. ソースコード描いて`make lint`\n",
        "  * hello.pyを例にして\n",
        "  * テストの前に静的にコードのおかしいところを見つけるよー\n",
        "\n",
        "7. ソースコードの見た目もきれいにするよー`make format`\n",
        "\n",
        "8. テストするよー\n",
        "  * test_hello.pyを作って,忘れずに `from hello import add`対象関数をインポートして`assert`を書きまくる．\n",
        "\n",
        "* 5 ~ 8までの流れは`make all`で一発でもOK\n",
        "\n",
        "9. `git push`でリポ更新\n",
        "\n",
        "\n"
      ]
    },
    {
      "cell_type": "markdown",
      "metadata": {
        "id": "g4Ejsk8_uq6Q"
      },
      "source": [
        "10. 更にGitHub Actionsを使ってCIを加速させるよー\n",
        "  * GitHub Actionsなる機能で，GitHub上の仮想マシーンでpushしたコードとかをもとにテスト自動化とかできる模様\n",
        "  * ActionsタブのSetup workflowからyamlファイルを記述．\n",
        "  * ymlファイル内に実行したいタイミング(例えばpush時)とか実行内容を描いて実行\n",
        "\n",
        "  ```yaml\n",
        "  # 本ワークフローの名前\n",
        "  name: Python application test with Github Actions\n",
        "  # これはこのJobがトリガーされるタイミング\n",
        "  on: [push] \n",
        "\n",
        "  jobs:\n",
        "    # Jobの名前\n",
        "    build:\n",
        "      # 実行仮想環境の指定\n",
        "      runs-on: ubuntu-latest\n",
        "      # ワーキングディレクトリの設定\n",
        "      defaults:\n",
        "        run:\n",
        "          working-directory: ./week01/AWS\n",
        "      steps:\n",
        "        # 各コマンドの実行は，predifinedのものならusesで指定コマンドならrunで行う．\n",
        "        - uses: actions/checkout@v2\n",
        "        - name: Python3.8のセットアップ\n",
        "          uses: actions/setup-python@v1\n",
        "          with:\n",
        "            python-version: 3.8\n",
        "        - name: 依存パッケージのインストール\n",
        "          run: |\n",
        "            make install\n",
        "        - name: Pylintによる静的解析\n",
        "          run: |\n",
        "            make lint\n",
        "        - name: Pytestによる単体テスト\n",
        "          run: |\n",
        "            make test\n",
        "        - name: Python blackによる整形\n",
        "          run: |\n",
        "            make format\n",
        "  ```\n",
        "\n",
        "  * 記述したワークフローをパスしたら，Create status badgeを取得できるのでReadme.mdとかに貼り付けてアピる．\n",
        "  * Azureの場合も流れは一緒．\n",
        "    * 後の講座で，GitHub-> Azure Pipelines -> App Service -> Flask Machine Learning API といったGitHubへのイベントをトリガとしてAzureにCountinuous Delivery するような仕組み習うよー"
      ]
    },
    {
      "cell_type": "markdown",
      "metadata": {
        "id": "wZJoYU3BGecL"
      },
      "source": [
        "### GCP (Google Cloud Platform)\n",
        "\n",
        "* 講師曰くクラウドの世界ではsmall player だけど，TensorflowベースのML自動化システムなど独自なサービス提供してる．\n",
        "  * TFHub, Coral.AI\n",
        "*GCP Free Tier Personal account, Qwiklabs, On-demand training course with Couseraなどが学習する上で有用\n",
        "  * 課題演習とか実適用に親しいところはFree Tierで，コース学習はQwiklabsが良さそう"
      ]
    },
    {
      "cell_type": "markdown",
      "metadata": {
        "id": "zxCb0JXEkNVR"
      },
      "source": [
        "### なんか作ってみる．\n",
        "* [参考](https://www.youtube.com/watch?v=2BJSUlaKMjQ)\n",
        "\n",
        "1. 仮想環境の作成\n",
        "  * 新しいプロジェクト作って\n",
        "  * GCP Free Tier内で\n",
        "  ```console\n",
        "shttksm@cloudshell:~ (encoded-rider-302514)$ virtualenv ~/.IDS721\n",
        "created virtual environment CPython3.7.3.final.0-64 in 1053ms\n",
        "  creator CPython3Posix(dest=/home/shttksm/.IDS721, clear=False, no_vcs_ignore=False, global=False)\n",
        "  seeder FromAppData(download=False, pip=bundle, setuptools=bundle, wheel=bundle, via=copy, app_data_dir=/home/shttksm/.local/share/virtualenv)\n",
        "    added seed packages: pip==20.3.3, setuptools==51.3.3, wheel==0.36.2\n",
        "  activators BashActivator,CShellActivator,FishActivator,PowerShellActivator,PythonActivator,XonshActivator\n",
        "shttksm@cloudshell:~ (encoded-rider-302514)$ source ./.IDS721/bin/activate\n",
        "(.IDS721) shttksm@cloudshell:~ (encoded-rider-302514)$\n",
        "  ```\n",
        "\n",
        "2. git clone\n",
        "  * GCP上で`ssh-keygen`して公開鍵をGitHubに登録してから\n",
        "  * 必要なファイルは[これら](https://github.com/shttksm/IDS721/tree/main/week01/GCP)で，特にapp.yml, cloudbuild.ymlとmain.pyが重要\n",
        "\n",
        "3. `make install`，`python main.py`でデプロイ前の動作確認\n",
        "\n",
        "4. 実サービスとしてデプロイ `gcloud app deploy`\n",
        "  * データセンターの指定と初めてcloud builderを使うときには許可が必要(build時間長い場合に課金)\n",
        "\n",
        "5. 自動ビルド+デプロイでCoutinuous Deliveryを加速させるよー\n",
        "  * まずは自動化の権限を設定,下記のように有効にする．\n",
        "    ![image](https://user-images.githubusercontent.com/56372825/105544686-3d350980-5cc9-11eb-98bc-c65ffb7a352f.png)\n",
        "\n",
        "  * Cloud Builderを対象のプロジェクトから起動して，トリガを追加．特に難しいこともなくPush起点でGCP上でもclone+buildされるリポジトリを指定するだけ．\n",
        "  * cloudbild.yaml, app.yamlがリポジトリの直下にあると特に設定はいらないけど，そうでない場合はトリガの設定時にcloudbild.yamlの場所を，cloudbild.yaml内にapp.yamlの場所をしてしておく．\n",
        "\n",
        "  ```yaml\n",
        "  steps:\n",
        "  - name: \"gcr.io/cloud-builders/gcloud\"\n",
        "    args: [\"app\", \"deploy\", \"week01/GCP/app.yaml\"]\n",
        "    timeout: \"1600s\"\n",
        "  ```\n",
        "\n",
        "\n",
        "\n"
      ]
    }
  ]
}