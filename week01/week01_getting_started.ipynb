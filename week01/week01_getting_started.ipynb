{
  "nbformat": 4,
  "nbformat_minor": 0,
  "metadata": {
    "colab": {
      "name": "week01_getting_started.ipynb",
      "provenance": [],
      "toc_visible": true,
      "authorship_tag": "ABX9TyMmYrN7BEw95mgirIBQXaXd",
      "include_colab_link": true
    },
    "kernelspec": {
      "name": "python3",
      "display_name": "Python 3"
    }
  },
  "cells": [
    {
      "cell_type": "markdown",
      "metadata": {
        "id": "view-in-github",
        "colab_type": "text"
      },
      "source": [
        "<a href=\"https://colab.research.google.com/github/shttksm/IDS721/blob/main/week01/week01_getting_started.ipynb\" target=\"_parent\"><img src=\"https://colab.research.google.com/assets/colab-badge.svg\" alt=\"Open In Colab\"/></a>"
      ]
    },
    {
      "cell_type": "markdown",
      "metadata": {
        "id": "hWgkjBTssiNv"
      },
      "source": [
        "# Week1 - Getting started"
      ]
    },
    {
      "cell_type": "markdown",
      "metadata": {
        "id": "e7azw67w8U98"
      },
      "source": [
        "## Effective Async Technical Discussion\n",
        "  * 要は，GitとかJupyterとか使って他者と共有可能な感じにしていきましょうってことで，そのTipsの説明"
      ]
    },
    {
      "cell_type": "markdown",
      "metadata": {
        "id": "1JIcITsXsoUj"
      },
      "source": [
        "### `git`によるホスト\n",
        "* bitbucket, gitとGitLabが主なホスティングサービス\n",
        "* GitHub + GitHub Pages + Hugo or Pelican でマークダウンファイル形式でウェブページ公開できるので便利\n",
        "* Gist ちょっとしたソースの共有に便利\n",
        "  * Youtubeの限定非公開みたいな感じで公開できてリポジトリとか作んなくてササッと共有したいとき用．\n",
        "![image](https://user-images.githubusercontent.com/56372825/105379749-26b08480-5bdb-11eb-9b8d-7bc5a7d34cb2.png)"
      ]
    },
    {
      "cell_type": "markdown",
      "metadata": {
        "id": "F1_qPWADu7Fv"
      },
      "source": [
        "### Jupyter Notebookによるホスト\n",
        "\n",
        "* Jupyter Notebookはコードとマークダウン使えてかけるので便利よ->これ描いている時点で知ってる．\n",
        "* docker もしくは colabでノートを公開すると便利\n",
        "  * Jupyterで共有するといいけど，環境もまとめて共有できればすぐ問題無しで実行できるねー\n"
      ]
    },
    {
      "cell_type": "markdown",
      "metadata": {
        "id": "lAAWRaS6y25j"
      },
      "source": [
        "### 画像や動画の共有\n",
        "\n",
        "* 画像や動画で伝えると当然情報量多いからわかりやすい．\n",
        "* ローカルで画像などをコピーして，GitHubのIssues に貼り付けると，それらがアップロードされてそのリンクが文字列で得られるよー．\n",
        "  * 下記のように得られた文字列をマークダウンとかにコピペするだけ\n",
        "![image](https://user-images.githubusercontent.com/56372825/105381927-8a3bb180-5bdd-11eb-93f8-684460cf0d0f.png)\n",
        "\n",
        "* 動画の場合は1, 2分くらいが集中しやすくて，MacならQuick player使って録画．編集めんどいならテンプレートありの[Camtasia](https://www.techsmith.com/video-editor.html)ってのが簡単よ\n",
        "  * 最初の授業でいかにコミュとるか教えるのがアメリカの授業っぽいというかいいよね．"
      ]
    },
    {
      "cell_type": "markdown",
      "metadata": {
        "id": "6maVmEfk5w_I"
      },
      "source": [
        "### まとめ: Effective Async Technical Discussion\n",
        "* 複数人で協力してプロジェクトを行い，AsyncなDiscussionなので能動的に情報を掴みに行くアクティブラーニングとなり効率的に学べるよー\n",
        "* コード以外の今まではコメントだったけど，多様な形態で付加情報つけれるよー\n"
      ]
    },
    {
      "cell_type": "markdown",
      "metadata": {
        "id": "9252tPuO7isv"
      },
      "source": [
        "## Effective Async Technical Project Management\n",
        "\n",
        "### ソフトウェアプロジェクトの失敗要因\n",
        "* 自動化の欠如，HIPPOs (Highest Paid Person’s Opinion) や Herosがメンバーを実はだめにする，チームワーク欠如(情報交換不足)がマネージメント要因以外の失敗要因としてよく見るところ．\n",
        "\n",
        "### 高品質かつオンタイムなソフトウェア制作\n",
        "* **DevOps**: 開発と運用を分けずにチームメンバーが両方を意識する．\n",
        "* **CD/CI**: DevOpsで開発運用間の組織的なオーバヘッドが減り小さな改善をガンガン運用していくとする．そんときに，スムーズに開発運用するテクニックの総称(Coutinuous Integration/ Countinuous delivery)．\n",
        "\n",
        "1. [ソフト開発の自動化](https://circleci.com/blog/increase-reliability-in-data-science-and-machine-learning-projects-with-circleci/)\n",
        "  * makefile 作って，setup(仮想環境), install(パッケージ導入), lint(静的解析), test(pytestとかの単体テスト)を自動化させる．\n",
        "\n",
        "2. マネージメント用のスプレットシート用意\n",
        "  * 4半期とか1年毎で週毎の成果物の指定: まぁこれは普通にやることでしょう．\n",
        "\n",
        "3. カンバンシステムの導入\n",
        "  * 英語でkanbanとか言ってたけど，要はTrelloでタスク毎に分割して人に振って組織内進捗を管理せよってこと\n",
        "\n",
        "4. 定期的にデモ\n",
        "  * 各タスクを金曜日〆にして例えば毎週月曜は，デモをしてリリース前の確認とする．\n",
        "\n",
        "5. Deadlineの数週前成果物を制作済みとする．\n",
        "6. シンプルかつ簡潔な構成とする．\n",
        "  * 選択肢があるなら理解用意な方を取る．\n",
        "7. エゴよりもプロセスを大切にするチーム作り\n",
        "  * リーダや個人の偏った強い思いよりも，チームメンバーが同じ目標に同じ熱量で向かえているか\n",
        "  * という意味でタレントだけでチームメンバーを決めない．\n",
        "8. YAGNI\n",
        "  * You ain't gonna need it.\n",
        "  * 必要なときに必要な機能のみ作る．とはいえ，再利用性も重要なのでそのバランスだろう．\n",
        "\n",
        "\n"
      ]
    },
    {
      "cell_type": "code",
      "metadata": {
        "id": "ziiH8FWz4tBZ"
      },
      "source": [
        ""
      ],
      "execution_count": null,
      "outputs": []
    }
  ]
}