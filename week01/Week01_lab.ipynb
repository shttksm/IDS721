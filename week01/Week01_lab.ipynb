{
  "nbformat": 4,
  "nbformat_minor": 0,
  "metadata": {
    "colab": {
      "name": "Week01_lab.ipynb",
      "provenance": [],
      "authorship_tag": "ABX9TyN2K367SktcL9+HuJa5NXCF",
      "include_colab_link": true
    },
    "kernelspec": {
      "name": "python3",
      "display_name": "Python 3"
    }
  },
  "cells": [
    {
      "cell_type": "markdown",
      "metadata": {
        "id": "view-in-github",
        "colab_type": "text"
      },
      "source": [
        "<a href=\"https://colab.research.google.com/github/shttksm/IDS721/blob/main/%08week01/Week01_lab.ipynb\" target=\"_parent\"><img src=\"https://colab.research.google.com/assets/colab-badge.svg\" alt=\"Open In Colab\"/></a>"
      ]
    },
    {
      "cell_type": "markdown",
      "metadata": {
        "id": "KSFLPaFVmZkE"
      },
      "source": [
        "# Week1 - Lab\n",
        "\n",
        "* Lab課題における気付きと困ったところメモ\n",
        "\n",
        "## GCP Essentials Qwiklabs\n",
        "* GCP\b上でターミナル使うだけ．\n",
        "* 特になし．\b講義のほうが\b内容深いため特にない．\n",
        "\n",
        "## AWS Academy CloudFoundations: \n",
        "### Introduction to EC2\n",
        "\n",
        "### Working with EBS\n",
        "\n",
        "### [Build your VPC and Launch a Web Server](https://awsacademy.instructure.com/courses/2340/modules/items/269990)\n",
        "\n",
        "#### VPC\n",
        "[動画](https://awsacademy.instructure.com/courses/2340/modules/items/269982)見たほうが早い．\n",
        "* VPC自体は，AWSの各リージョン(データセンタ)内に仮想的にネットワークを作れる仕組み\n",
        "  * イメージとしてはVCPインスタンスとして\bAWS内のネットワーク構成を規定する感じか．\n",
        "* 各リージョンの利用可能領域の中から複数個サブネットを作ってVCPインスタンスに登録できるよー\n",
        "  * サブネットは，ネットに接続可能なPublicと\bバックエンドなど隠しておきたいPrivateに分けられるよー\n",
        "* CIDRとSubnet maskはまぁOK.\n",
        "  * マスク長は16bit ~ 28bitまで使えるよう．16bitだと使えるアドレスは65536個"
      ]
    },
    {
      "cell_type": "markdown",
      "metadata": {
        "id": "a64fgxmupxD8"
      },
      "source": [
        "#### VPC networking\b\n",
        "\n",
        "これもまた[動画](https://awsacademy.instructure.com/courses/2340/modules/items/269984)見たほうが早いけど\bまとめとしては，\n",
        "\n",
        "* PublicとPrivateなsubnetについては上述\n",
        "\n",
        "* Public subnetに\bNATをおいて, privateから\bインターネットへのコネクションはprivate subnet route tableでNATに向かわせる.\n",
        "\n",
        "* publicからインターネットへの通信はpublic subnet route tableに基づいてインターネットゲートウェイに向ける．\n",
        "\n",
        "* VPC間のコネクションについては，リージョン・AWSアカウントが違ってもVCP Peeringの仕組みでOK.\n",
        "\n",
        "* 会社のデータセンターからAWSへのコネクトはインターネット経由VNCで．\n",
        "  * ネット経由で速度心配な場合にAWS Direct connect\n",
        "\n",
        "#### VPC cecurity\n",
        "* Security groupとnetwork access \bcontrol listの2種類\n",
        "* Security groupはsubnet内に含まえれるインスタンス(イメージはサーバ)ごと\n",
        "* Network access control listはサブネットごと\n",
        "\n",
        "### Amazon Route 53\n",
        "* いい感じのDNS, ロードバランサ"
      ]
    },
    {
      "cell_type": "code",
      "metadata": {
        "id": "J1XA5E3J5VeS"
      },
      "source": [
        "\b\n",
        "  \b"
      ],
      "execution_count": null,
      "outputs": []
    }
  ]
}